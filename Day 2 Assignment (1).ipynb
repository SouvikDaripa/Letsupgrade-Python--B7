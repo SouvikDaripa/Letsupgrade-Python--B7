{
 "cells": [
  {
   "cell_type": "markdown",
   "metadata": {},
   "source": [
    "# List"
   ]
  },
  {
   "cell_type": "code",
   "execution_count": 15,
   "metadata": {},
   "outputs": [
    {
     "name": "stdout",
     "output_type": "stream",
     "text": [
      "['Eng', 'Hindi', 'Math']\n",
      "['Eng', 'Hindi', 'Math', 'Phys']\n",
      "['Eng', 'Hindi', 'Math', 'Phys', 'Sans', 'Geo', 'Eng']\n",
      "['Hist', 'Eng', 'Hindi', 'Math', 'Phys', 'Sans', 'Geo', 'Eng']\n",
      "['Hist', 'Eng', 'Life', 'Hindi', 'Math', 'Phys', 'Sans', 'Geo', 'Eng']\n",
      "['Hist', 'Eng', 'Life', 'Hindi', 'Math', 'Phys', 'Geo', 'Eng']\n",
      "1\n",
      "2\n",
      "5\n",
      "['Hist', 'Life', 'Hindi', 'Math', 'Phys', 'Geo', 'Eng']\n",
      "['Eng', 'Geo', 'Phys', 'Math', 'Hindi', 'Life', 'Hist']\n",
      "b is  ['Eng', 'Geo', 'Phys', 'Math', 'Hindi', 'Life', 'Hist']\n",
      "[]\n"
     ]
    }
   ],
   "source": [
    "a = [\"Eng\", \"Hindi\",\"Math\"]\n",
    "print(a)\n",
    "a.append(\"Phys\")\n",
    "print(a)\n",
    "a.extend([\"Sans\", \"Geo\",\"Eng\"])\n",
    "print(a)\n",
    "a.insert(0, \"Hist\")\n",
    "print(a)\n",
    "a.insert(2, \"Life\")\n",
    "print(a)\n",
    "a.remove(\"Sans\")\n",
    "print(a)\n",
    "print(a.count(\"Hist\"))\n",
    "print(a.count(\"Eng\"))\n",
    "print(a.index(\"Phys\"))\n",
    "a.pop(1)\n",
    "print(a)\n",
    "a.reverse()\n",
    "print(a)\n",
    "b = a.copy()\n",
    "print(\"b is \",b)\n",
    "a.clear()\n",
    "print(a)"
   ]
  },
  {
   "cell_type": "code",
   "execution_count": 25,
   "metadata": {},
   "outputs": [
    {
     "name": "stdout",
     "output_type": "stream",
     "text": [
      "5\n",
      "C is :  [1, 2, 3, 4, 7]\n",
      "D is :  [1, 2, 3]\n",
      "\n",
      "[1, 3, 5, 7, 9]\n"
     ]
    }
   ],
   "source": [
    "Lst1 = [1,2,3,4,7]\n",
    "print(len(Lst1))\n",
    "Lst2 = [1,2,3]\n",
    "C = max(Lst1,Lst2)\n",
    "print(\"C is : \",C)\n",
    "D = min(Lst1,Lst2)\n",
    "print(\"D is : \",D)\n",
    "print()\n",
    "print(list(range(1,11,2)))"
   ]
  },
  {
   "cell_type": "markdown",
   "metadata": {},
   "source": [
    "# DICTIONARY"
   ]
  },
  {
   "cell_type": "code",
   "execution_count": 44,
   "metadata": {},
   "outputs": [
    {
     "name": "stdout",
     "output_type": "stream",
     "text": [
      "Souvik\n",
      "19\n",
      "{'name': 'Souvik', 'age': 20, 'address': 'West Bengal'}\n",
      "{}\n",
      "\n",
      "\n",
      "Orignal:  {1: 'one', 2: 'two'}\n",
      "New:  {1: 'one', 2: 'two'}\n",
      "{1: 'one', 2: 'two', 3: 'three'}\n",
      "dict_keys([1, 2, 3])\n",
      "\n",
      "{'o': 'vowel', 'i': 'vowel', 'a': 'vowel', 'e': 'vowel', 'u': 'vowel'}\n",
      "\n",
      "The popped element is: 2\n",
      "The dictionary is: {'orange': 3, 'grapes': 4}\n"
     ]
    }
   ],
   "source": [
    "dict_1 = {'name': 'Souvik', 'age': 19}\n",
    "print(dict_1['name'])\n",
    "print(dict_1.get('age'))\n",
    "dict_1['age'] = 20\n",
    "dict_1['address'] = 'West Bengal'\n",
    "print(dict_1)\n",
    "dict_1.clear()\n",
    "print(dict_1)\n",
    "print()\n",
    "print()\n",
    "\n",
    "dict_2 = {1:'one', 2:'two'}\n",
    "new_dict_2 = dict_2.copy()\n",
    "print('Orignal: ', dict_2)\n",
    "print('New: ', new_dict_2)\n",
    "d1 = {3: \"three\"}\n",
    "dict_2.update(d1)\n",
    "print(dict_2)\n",
    "print(dict_2.keys())\n",
    "print()\n",
    "\n",
    "keys = {'a', 'e', 'i', 'o', 'u' }\n",
    "value = 'vowel'\n",
    "vowels = dict.fromkeys(keys, value)\n",
    "print(vowels)\n",
    "print()\n",
    "\n",
    "\n",
    "fruits_num = { 'apple': 2, 'orange': 3, 'grapes': 4 }\n",
    "\n",
    "element = fruits_num.pop('apple')\n",
    "print('The popped element is:', element)\n",
    "print('The dictionary is:', fruits_num)"
   ]
  },
  {
   "cell_type": "markdown",
   "metadata": {},
   "source": [
    "# Tuple"
   ]
  },
  {
   "cell_type": "code",
   "execution_count": 47,
   "metadata": {},
   "outputs": [
    {
     "name": "stdout",
     "output_type": "stream",
     "text": [
      "The count of i is: 2\n",
      "The count of p is: 0\n",
      "The index of e: 1\n"
     ]
    }
   ],
   "source": [
    "vowels = ('a', 'e', 'i', 'o', 'i', 'u','e')\n",
    "count = vowels.count('i')\n",
    "print('The count of i is:', count)\n",
    "count = vowels.count('p')\n",
    "print('The count of p is:', count)\n",
    "index = vowels.index('e')\n",
    "print('The index of e:', index)"
   ]
  },
  {
   "cell_type": "markdown",
   "metadata": {},
   "source": [
    "# Sets"
   ]
  },
  {
   "cell_type": "code",
   "execution_count": 70,
   "metadata": {},
   "outputs": [
    {
     "name": "stdout",
     "output_type": "stream",
     "text": [
      "{1.0, 'Hello', (1, 2, 3)}\n",
      "{1.0, '2', 'Hello', (1, 2, 3)}\n",
      "{1.0, 2, 3, 4, 'Hello', (1, 2, 3), '2'}\n",
      "{1.0, 2, 3, 'Hello', (1, 2, 3), '2'}\n",
      "{2, 3, 'Hello', (1, 2, 3), '2'}\n",
      "{3, 'Hello', (1, 2, 3), '2'}\n",
      "set()\n",
      "\n",
      "Union of sets is :  {1, 2, 3, 4, 5, 6, 7, 8}\n",
      "Intersection of set is:  {4, 5}\n",
      "A-B is :  {1, 2, 3}\n",
      "B-A is :  {8, 6, 7}\n",
      "Symmetric diff is :  {1, 2, 3, 6, 7, 8}\n",
      "\n",
      "Are A and B disjoint? False\n",
      "\n",
      "False\n",
      "True\n",
      "False\n",
      "True\n"
     ]
    }
   ],
   "source": [
    "set1 = {(1, 2, 3), 1.0, \"Hello\"}\n",
    "print(set1)\n",
    "set1.add(\"2\")\n",
    "print(set1)\n",
    "set1.update([2, 3, 4])\n",
    "print(set1)\n",
    "set1.discard(4)\n",
    "print(set1)\n",
    "set1.remove(1.0)\n",
    "print(set1)\n",
    "set1.pop()\n",
    "print(set1)\n",
    "set1.clear()\n",
    "print(set1)\n",
    "print()\n",
    "\n",
    "A = {1, 2, 3, 4, 5}\n",
    "B = {4, 5, 6, 7, 8}\n",
    "C = A.union(B)\n",
    "print(\"Union of sets is : \",C)\n",
    "D = A.intersection(B)\n",
    "print(\"Intersection of set is: \",D)\n",
    "E = A.difference(B)\n",
    "F = B.difference(A)\n",
    "print(\"A-B is : \",E)\n",
    "print(\"B-A is : \",F)\n",
    "G = A.symmetric_difference(B)\n",
    "print(\"Symmetric diff is : \",G)\n",
    "print()\n",
    "print('Are A and B disjoint?', A.isdisjoint(B))\n",
    "print()\n",
    "\n",
    "A1 = {11,12,13,14,15}\n",
    "B1 = {12,14,15}\n",
    "print(A1.issubset(B1))\n",
    "print(B1.issubset(A1))\n",
    "print(B1.issuperset(A1))\n",
    "print(A1.issuperset(B1))"
   ]
  },
  {
   "cell_type": "markdown",
   "metadata": {},
   "source": [
    "# String"
   ]
  },
  {
   "cell_type": "code",
   "execution_count": 105,
   "metadata": {},
   "outputs": [
    {
     "name": "stdout",
     "output_type": "stream",
     "text": [
      "Old String:  all Is WeLl.\n",
      "Capitalized String: All is well.\n",
      "\n",
      "Centered String:        all Is WeLl.      \n",
      "\n",
      "Lowercase string: all is well\n",
      "\n",
      "The count is: 2\n",
      "\n",
      "True\n",
      "\n",
      "abc 12345   XYZ\n",
      "\n",
      "The string is: pythön!\n",
      "The encoded version is: b'pyth\\xc3\\xb6n!'\n",
      "\n",
      "-1\n",
      "\n",
      "Hello Adam, your gate rank is 2305.\n",
      "The float number is: 145.689300\n",
      "\n",
      "The index is:  7\n",
      "\n",
      "True\n",
      "False\n",
      "True\n",
      "False\n",
      "True\n",
      "This sentence is a printable\n",
      "True\n",
      "\n",
      "New Line is printable\n",
      "False\n",
      "\n",
      "\n",
      "LetsUpgrade\n",
      "\n",
      "PythonPythonPythonPython\n",
      "t\n",
      "True\n",
      "\n",
      "It is called \"Escape\"character \n"
     ]
    }
   ],
   "source": [
    "str_1 = \"all Is WeLl.\"\n",
    "capitalized_string = str_1.capitalize()\n",
    "print('Old String: ', str_1)\n",
    "print('Capitalized String:', capitalized_string)\n",
    "print()\n",
    "\n",
    "str_2 = str_1.center(24)\n",
    "print(\"Centered String: \", str_2)\n",
    "print()\n",
    "\n",
    "str_3 = \"ALL IS WELL\"\n",
    "print(\"Lowercase string:\", str_3.casefold())\n",
    "print()\n",
    "\n",
    "str_4 = \"Python is very easy to read so it is awesome.\"\n",
    "print(\"The count is:\",str_4.count(\"is\"))\n",
    "print()\n",
    "print(str_4.endswith('awesome.'))\n",
    "print()\n",
    "\n",
    "str_5 = 'abc\\t12345\\tXYZ'\n",
    "result = str_5.expandtabs(4)\n",
    "print(result)\n",
    "print()\n",
    "\n",
    "str_6 = 'pythön!'\n",
    "print('The string is:', str_6)\n",
    "string_enc = str_6.encode()\n",
    "print('The encoded version is:', string_enc)\n",
    "print()\n",
    "\n",
    "str_7 = 'Drag addition file here to add them.'\n",
    "print(str_7.find('to add', 25))\n",
    "print()\n",
    "\n",
    "print(\"Hello {}, your gate rank is {}.\".format(\"Adam\", 2305))\n",
    "print(\"The float number is: {:f}\".format(145.6893))\n",
    "print()\n",
    "\n",
    "str_8 = \"Python is fun\"\n",
    "print(\"The index is: \",str_8.index('is fun'))\n",
    "print()\n",
    "\n",
    "str_9 = \"SDR679ghy\"\n",
    "print(str_9.isalnum())   #True\n",
    "str_10 = \"SDR67 9ghy\"\n",
    "print(str_10.isalnum()) #False\n",
    "str_11 = \"Souvik\"\n",
    "print(str_11.isalpha())  #True\n",
    "str_12 = \"Souv24ik\"\n",
    "print(str_12.isalpha()) #False\n",
    "str_13 = \"43446824\"\n",
    "print(str_13.isdigit())  #True\n",
    "\n",
    "str_14 = 'This sentence is a printable'\n",
    "print(str_14)\n",
    "print(str_14.isprintable())  #True\n",
    "\n",
    "str_16 = '\\nNew Line is printable'\n",
    "print(str_16)\n",
    "print(str_16.isprintable()) #False\n",
    "print()\n",
    "print()\n",
    "\n",
    "var1 = 'Lets'\n",
    "var2 = 'Upgrade'\n",
    "print (var1+var2)  #concatination\n",
    "print()\n",
    "\n",
    "var3 = 'Python'\n",
    "print (var3*4)      #repetition\n",
    "print (var3[2])     #slicing\n",
    "print ('n' in var3) #True\n",
    "print()\n",
    "print (\"It is called \\\"Escape\\\"character \")"
   ]
  },
  {
   "cell_type": "code",
   "execution_count": null,
   "metadata": {},
   "outputs": [],
   "source": []
  }
 ],
 "metadata": {
  "kernelspec": {
   "display_name": "Python 3",
   "language": "python",
   "name": "python3"
  },
  "language_info": {
   "codemirror_mode": {
    "name": "ipython",
    "version": 3
   },
   "file_extension": ".py",
   "mimetype": "text/x-python",
   "name": "python",
   "nbconvert_exporter": "python",
   "pygments_lexer": "ipython3",
   "version": "3.8.3"
  }
 },
 "nbformat": 4,
 "nbformat_minor": 4
}
